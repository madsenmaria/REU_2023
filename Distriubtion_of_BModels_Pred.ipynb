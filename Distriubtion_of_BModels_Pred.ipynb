{
 "cells": [
  {
   "attachments": {},
   "cell_type": "markdown",
   "metadata": {},
   "source": [
    "In this notebook, I graph the different losses (from predicted values to test set values) for the two different best performing models based on different categorizations (region and type of event). Overall, the worst performing category is severe wind, with the subcategory of east severe wind performing the worst. "
   ]
  },
  {
   "cell_type": "code",
   "execution_count": 2,
   "metadata": {},
   "outputs": [
    {
     "name": "stdout",
     "output_type": "stream",
     "text": [
      "Intel MKL WARNING: Support of Intel(R) Streaming SIMD Extensions 4.2 (Intel(R) SSE4.2) enabled only processors has been deprecated. Intel oneAPI Math Kernel Library 2025.0 will require Intel(R) Advanced Vector Extensions (Intel(R) AVX) instructions.\n",
      "Intel MKL WARNING: Support of Intel(R) Streaming SIMD Extensions 4.2 (Intel(R) SSE4.2) enabled only processors has been deprecated. Intel oneAPI Math Kernel Library 2025.0 will require Intel(R) Advanced Vector Extensions (Intel(R) AVX) instructions.\n"
     ]
    },
    {
     "name": "stderr",
     "output_type": "stream",
     "text": [
      "2023-07-11 22:41:22.624000: I tensorflow/core/platform/cpu_feature_guard.cc:193] This TensorFlow binary is optimized with oneAPI Deep Neural Network Library (oneDNN) to use the following CPU instructions in performance-critical operations:  SSE4.1 SSE4.2\n",
      "To enable them in other operations, rebuild TensorFlow with the appropriate compiler flags.\n"
     ]
    }
   ],
   "source": [
    "import matplotlib.pyplot as plt\n",
    "import numpy as np\n",
    "import pandas as pd\n",
    "import h5py\n",
    "import math\n",
    "import innvestigate as inv\n",
    "import keras\n",
    "import xarray as xr"
   ]
  },
  {
   "cell_type": "code",
   "execution_count": 3,
   "metadata": {},
   "outputs": [],
   "source": [
    "df_olr = xr.load_dataset('df_olr.nc') \n",
    "df_wg = xr.load_dataset('df_era5.nc')\n",
    "pph_data = pd.read_csv('pph_loc_mean.csv').rename(columns={'Unnamed: 0': 'date'}).set_index('date')\n",
    "\n",
    "label_list = list(np.datetime_as_string(df_olr.time.values))\n",
    "for i, val in enumerate(label_list):\n",
    "    label_list[i] = val.split('T')[0]"
   ]
  },
  {
   "cell_type": "code",
   "execution_count": 4,
   "metadata": {},
   "outputs": [],
   "source": [
    "HORIZON = 7 # PPH from 7 days afterwords\n",
    "WINDOW = 30 # assumes sliding in days\n",
    "test_labels = label_list[label_list.index('2016-11-01'):label_list.index('2019-05-31')]\n",
    "\n",
    "# creates a expanding window from given label -- WORKS!\n",
    "def get_window_expanding(label=\"\", label_list=label_list):\n",
    "    try:\n",
    "        # take the season\n",
    "        # season_index = label_list.index(label)\n",
    "\n",
    "        # grab all the days previous to one that you have\n",
    "        window = [0]*(len(label_list)-7)\n",
    "        for i in range(len(window)):\n",
    "            window[i] = label_list[len(label_list)-i-8]\n",
    "        # return window and label\n",
    "        return window, label\n",
    "        \n",
    "    \n",
    "    #printing error when value is not in seasons list\n",
    "    except:\n",
    "        return \"Label not found in list\"\n",
    "    \n",
    "\n",
    "# creates a sliding window from given label -- WORKS!\n",
    "def get_window_sliding (label=\"\", window_num=WINDOW):\n",
    "    try: \n",
    "        #ensure not grabbing from diff season\n",
    "        day_index = label_list.index(label)\n",
    "        m = int(label.split('-')[1])\n",
    "        d = int(label.split('-')[2])\n",
    "\n",
    "        #for values that are almost outside the season, use and expanding window \n",
    "        if (m ==11 ) or (m ==12 and d < 7):\n",
    "            y = label.split('-')[0]\n",
    "            stopper = y+'-11-01' #end of the season\n",
    "            stop_index = label_list.index(stopper)\n",
    "\n",
    "            #creates a new list to grab data from\n",
    "            label_list_copy = label_list.copy()[stop_index:day_index+1]\n",
    "\n",
    "            return (get_window_expanding(label=label, label_list=label_list_copy))\n",
    "\n",
    "        else:\n",
    "            window = [0]*(window_num)\n",
    "\n",
    "            for i in range(len(window)):\n",
    "                window[i] = label_list[day_index-i-7] #TODO: 7 days between or pph_day - last_day = 7\n",
    "            return window, label  \n",
    "    \n",
    "    except:\n",
    "        return \"Label not found in list\"\n",
    "    \n",
    "\n",
    "# returns wind and geopotential dataframe for prev 30 days (minus 7d), olr dataframe for prev 30 days(minus 7d), \n",
    "# and pph data for the given date\n",
    "def get_data(date):\n",
    "    dates = get_window_sliding(date)\n",
    "    past_dates = dates[0]\n",
    "    target_data = pph_data.loc[date]\n",
    "    # print(len(past_dates))\n",
    "    if len(past_dates) == 0:\n",
    "        return [], [], target_data\n",
    "    slicer = slice(past_dates[-1], past_dates[0])\n",
    "\n",
    "    return df_wg.sel(time=slicer), df_olr.sel(time=slicer), target_data\n",
    "\n",
    "\n"
   ]
  },
  {
   "cell_type": "code",
   "execution_count": 5,
   "metadata": {},
   "outputs": [],
   "source": [
    "#building testing datasets\n",
    "test_era5_data = np.zeros((635, 30, 51, 241, 2))\n",
    "for i, val in enumerate(test_labels):\n",
    "    try:\n",
    "        day_index = label_list.index(val)\n",
    "        m = int(val.split('-')[1])\n",
    "        d = int(val.split('-')[2])\n",
    "        if len(get_data(val)[0].u250.values) == 0:\n",
    "            test_era5_data[i,:,:,:, 0] = np.full((30, 51, 241), 0)\n",
    "        \n",
    "        elif(m ==11) or (m ==12 and d < 7):\n",
    "            r = np.zeros((30, 51, 241))\n",
    "            n = get_data(val)[0].u250.values\n",
    "            r[0:len(n), :, :] = n\n",
    "            r[len(n):, :, :] = np.full(((30-len(n)), 51, 241), 0)\n",
    "            test_era5_data[i,:,:,:, 0] = r\n",
    "        else:\n",
    "            d = get_data(val)[0].u250.values\n",
    "            test_era5_data[i,:,:,:, 0] = d\n",
    "        # print(val)\n",
    "    except Exception as e:\n",
    "        test_era5_data[i,:,:,:, 0] = np.full((30, 51, 241), 0)\n",
    "\n",
    "for i, val in enumerate(test_labels):\n",
    "    try:\n",
    "        day_index = label_list.index(val)\n",
    "        m = int(val.split('-')[1])\n",
    "        d = int(val.split('-')[2])\n",
    "        if len(get_data(val)[0].z500.values) == 0:\n",
    "            test_era5_data[i,:,:,:, 1] = np.full((30, 51, 241), 0)\n",
    "        \n",
    "        elif(m ==11) or (m ==12 and d < 7):\n",
    "            r = np.zeros((30, 51, 241))\n",
    "            n = get_data(val)[0].z500.values\n",
    "            r[0:len(n), :, :] = n\n",
    "            r[len(n):, :, :] = np.full(((30-len(n)), 51, 241), 0)\n",
    "            test_era5_data[i,:,:,:, 1] = r\n",
    "        else:\n",
    "            d = get_data(val)[0].z500.values\n",
    "            test_era5_data[i,:,:,:, 1] = d\n",
    "        # print(val)\n",
    "    except Exception as e:\n",
    "        test_era5_data[i,:,:,:, 1] = np.full((30, 51, 241), 0)\n",
    "\n",
    "test_olr_data = np.zeros((635, 30, 13, 144, 1))\n",
    "for i, val in enumerate(test_labels):\n",
    "    try:\n",
    "        day_index = label_list.index(val)\n",
    "        m = int(val.split('-')[1])\n",
    "        d = int(val.split('-')[2])\n",
    "        if len(get_data(val)[1].olr.values) == 0:\n",
    "            test_olr_data[i,:,:,:,0] = np.full((30, 13, 144), 0)\n",
    "        \n",
    "        elif(m ==11) or (m ==12 and d < 7):\n",
    "            r = np.zeros((30,  13, 144))\n",
    "            n = get_data(val)[1].olr.values\n",
    "            r[0:len(n), :, :] = n\n",
    "            r[len(n):, :, :] = np.full(((30-len(n)), 13, 144), 0)\n",
    "            test_olr_data[i,:,:,:,0] = r\n",
    "        else:\n",
    "            d = get_data(val)[1].olr.values\n",
    "            test_olr_data[i,:,:,:,0] = d\n",
    "        # print(val)\n",
    "    except Exception as e:\n",
    "        test_olr_data[i,:,:,:,0] = np.full((30, 13, 144), 0)\n",
    "\n",
    "test_pph_data = np.zeros((635, 9))\n",
    "for i, val in enumerate(test_labels):\n",
    "    test_pph_data[i,:] = np.array(list(get_data(val)[2].to_dict().values()))"
   ]
  },
  {
   "cell_type": "code",
   "execution_count": 6,
   "metadata": {},
   "outputs": [
    {
     "data": {
      "text/html": [
       "<div>\n",
       "<style scoped>\n",
       "    .dataframe tbody tr th:only-of-type {\n",
       "        vertical-align: middle;\n",
       "    }\n",
       "\n",
       "    .dataframe tbody tr th {\n",
       "        vertical-align: top;\n",
       "    }\n",
       "\n",
       "    .dataframe thead th {\n",
       "        text-align: right;\n",
       "    }\n",
       "</style>\n",
       "<table border=\"1\" class=\"dataframe\">\n",
       "  <thead>\n",
       "    <tr style=\"text-align: right;\">\n",
       "      <th></th>\n",
       "      <th>west_tor</th>\n",
       "      <th>west_wind</th>\n",
       "      <th>west_hail</th>\n",
       "      <th>central_tor</th>\n",
       "      <th>central_wind</th>\n",
       "      <th>central_hail</th>\n",
       "      <th>east_tor</th>\n",
       "      <th>east_wind</th>\n",
       "      <th>east_hail</th>\n",
       "    </tr>\n",
       "    <tr>\n",
       "      <th>date</th>\n",
       "      <th></th>\n",
       "      <th></th>\n",
       "      <th></th>\n",
       "      <th></th>\n",
       "      <th></th>\n",
       "      <th></th>\n",
       "      <th></th>\n",
       "      <th></th>\n",
       "      <th></th>\n",
       "    </tr>\n",
       "  </thead>\n",
       "  <tbody>\n",
       "    <tr>\n",
       "      <th>2016-11-01</th>\n",
       "      <td>0.000000</td>\n",
       "      <td>0.000000</td>\n",
       "      <td>0.000000</td>\n",
       "      <td>0.000000</td>\n",
       "      <td>0.000000</td>\n",
       "      <td>0.000000</td>\n",
       "      <td>0.0</td>\n",
       "      <td>0.000000</td>\n",
       "      <td>0.000000</td>\n",
       "    </tr>\n",
       "    <tr>\n",
       "      <th>2016-11-02</th>\n",
       "      <td>0.000000</td>\n",
       "      <td>0.000129</td>\n",
       "      <td>0.009150</td>\n",
       "      <td>0.000000</td>\n",
       "      <td>1.351910</td>\n",
       "      <td>1.339154</td>\n",
       "      <td>0.0</td>\n",
       "      <td>0.000000</td>\n",
       "      <td>0.000000</td>\n",
       "    </tr>\n",
       "    <tr>\n",
       "      <th>2016-11-03</th>\n",
       "      <td>0.000000</td>\n",
       "      <td>0.000000</td>\n",
       "      <td>0.000000</td>\n",
       "      <td>0.000000</td>\n",
       "      <td>0.000000</td>\n",
       "      <td>0.000000</td>\n",
       "      <td>0.0</td>\n",
       "      <td>0.000000</td>\n",
       "      <td>0.000000</td>\n",
       "    </tr>\n",
       "    <tr>\n",
       "      <th>2016-11-04</th>\n",
       "      <td>0.000000</td>\n",
       "      <td>0.093275</td>\n",
       "      <td>0.412768</td>\n",
       "      <td>0.000000</td>\n",
       "      <td>0.000013</td>\n",
       "      <td>0.086616</td>\n",
       "      <td>0.0</td>\n",
       "      <td>0.000000</td>\n",
       "      <td>0.000000</td>\n",
       "    </tr>\n",
       "    <tr>\n",
       "      <th>2016-11-05</th>\n",
       "      <td>0.000000</td>\n",
       "      <td>0.000000</td>\n",
       "      <td>0.168041</td>\n",
       "      <td>0.000000</td>\n",
       "      <td>0.000000</td>\n",
       "      <td>0.029909</td>\n",
       "      <td>0.0</td>\n",
       "      <td>0.000000</td>\n",
       "      <td>0.000000</td>\n",
       "    </tr>\n",
       "    <tr>\n",
       "      <th>...</th>\n",
       "      <td>...</td>\n",
       "      <td>...</td>\n",
       "      <td>...</td>\n",
       "      <td>...</td>\n",
       "      <td>...</td>\n",
       "      <td>...</td>\n",
       "      <td>...</td>\n",
       "      <td>...</td>\n",
       "      <td>...</td>\n",
       "    </tr>\n",
       "    <tr>\n",
       "      <th>2019-05-27</th>\n",
       "      <td>0.200550</td>\n",
       "      <td>0.038387</td>\n",
       "      <td>0.274401</td>\n",
       "      <td>3.712219</td>\n",
       "      <td>4.844967</td>\n",
       "      <td>5.126097</td>\n",
       "      <td>0.0</td>\n",
       "      <td>0.000000</td>\n",
       "      <td>0.000000</td>\n",
       "    </tr>\n",
       "    <tr>\n",
       "      <th>2019-05-28</th>\n",
       "      <td>0.012979</td>\n",
       "      <td>0.002045</td>\n",
       "      <td>0.064389</td>\n",
       "      <td>1.073510</td>\n",
       "      <td>3.527014</td>\n",
       "      <td>5.957370</td>\n",
       "      <td>0.0</td>\n",
       "      <td>0.587768</td>\n",
       "      <td>0.000000</td>\n",
       "    </tr>\n",
       "    <tr>\n",
       "      <th>2019-05-29</th>\n",
       "      <td>0.000000</td>\n",
       "      <td>0.000008</td>\n",
       "      <td>0.000890</td>\n",
       "      <td>2.231628</td>\n",
       "      <td>5.683658</td>\n",
       "      <td>2.266128</td>\n",
       "      <td>0.0</td>\n",
       "      <td>0.000000</td>\n",
       "      <td>0.000000</td>\n",
       "    </tr>\n",
       "    <tr>\n",
       "      <th>2019-05-30</th>\n",
       "      <td>0.092477</td>\n",
       "      <td>0.231149</td>\n",
       "      <td>0.041616</td>\n",
       "      <td>0.003786</td>\n",
       "      <td>1.137013</td>\n",
       "      <td>1.142408</td>\n",
       "      <td>0.0</td>\n",
       "      <td>0.000000</td>\n",
       "      <td>0.000000</td>\n",
       "    </tr>\n",
       "    <tr>\n",
       "      <th>2019-05-31</th>\n",
       "      <td>0.013914</td>\n",
       "      <td>0.013914</td>\n",
       "      <td>0.121624</td>\n",
       "      <td>0.128138</td>\n",
       "      <td>1.318937</td>\n",
       "      <td>1.646136</td>\n",
       "      <td>0.0</td>\n",
       "      <td>0.004869</td>\n",
       "      <td>1.400037</td>\n",
       "    </tr>\n",
       "  </tbody>\n",
       "</table>\n",
       "<p>636 rows × 9 columns</p>\n",
       "</div>"
      ],
      "text/plain": [
       "            west_tor  west_wind  west_hail  central_tor  central_wind  \\\n",
       "date                                                                    \n",
       "2016-11-01  0.000000   0.000000   0.000000     0.000000      0.000000   \n",
       "2016-11-02  0.000000   0.000129   0.009150     0.000000      1.351910   \n",
       "2016-11-03  0.000000   0.000000   0.000000     0.000000      0.000000   \n",
       "2016-11-04  0.000000   0.093275   0.412768     0.000000      0.000013   \n",
       "2016-11-05  0.000000   0.000000   0.168041     0.000000      0.000000   \n",
       "...              ...        ...        ...          ...           ...   \n",
       "2019-05-27  0.200550   0.038387   0.274401     3.712219      4.844967   \n",
       "2019-05-28  0.012979   0.002045   0.064389     1.073510      3.527014   \n",
       "2019-05-29  0.000000   0.000008   0.000890     2.231628      5.683658   \n",
       "2019-05-30  0.092477   0.231149   0.041616     0.003786      1.137013   \n",
       "2019-05-31  0.013914   0.013914   0.121624     0.128138      1.318937   \n",
       "\n",
       "            central_hail  east_tor  east_wind  east_hail  \n",
       "date                                                      \n",
       "2016-11-01      0.000000       0.0   0.000000   0.000000  \n",
       "2016-11-02      1.339154       0.0   0.000000   0.000000  \n",
       "2016-11-03      0.000000       0.0   0.000000   0.000000  \n",
       "2016-11-04      0.086616       0.0   0.000000   0.000000  \n",
       "2016-11-05      0.029909       0.0   0.000000   0.000000  \n",
       "...                  ...       ...        ...        ...  \n",
       "2019-05-27      5.126097       0.0   0.000000   0.000000  \n",
       "2019-05-28      5.957370       0.0   0.587768   0.000000  \n",
       "2019-05-29      2.266128       0.0   0.000000   0.000000  \n",
       "2019-05-30      1.142408       0.0   0.000000   0.000000  \n",
       "2019-05-31      1.646136       0.0   0.004869   1.400037  \n",
       "\n",
       "[636 rows x 9 columns]"
      ]
     },
     "execution_count": 6,
     "metadata": {},
     "output_type": "execute_result"
    }
   ],
   "source": [
    "pph_data[-636:]"
   ]
  },
  {
   "cell_type": "code",
   "execution_count": 33,
   "metadata": {},
   "outputs": [
    {
     "data": {
      "text/plain": [
       "(635, 3)"
      ]
     },
     "execution_count": 33,
     "metadata": {},
     "output_type": "execute_result"
    }
   ],
   "source": [
    "np.shape(test_pph_data[:,0:3])"
   ]
  },
  {
   "cell_type": "code",
   "execution_count": 7,
   "metadata": {},
   "outputs": [],
   "source": [
    "model0931 = keras.models.load_model('my_model_0931.h5')\n",
    "model095 = keras.models.load_model('my_model_095.h5')\n",
    "\n",
    "\n",
    "# Show the model architecture\n",
    "# model.summary()\n",
    "# loss and accuracy in \"new model\"\n",
    "# loss, acc = model.evaluate(X_validation, Y_validation, verbose=2)\n",
    "# print('Restored model, categorical crossentropy: ', loss)\n",
    "# print('Restored model, categorical accuracy: ', acc)"
   ]
  },
  {
   "attachments": {},
   "cell_type": "markdown",
   "metadata": {},
   "source": [
    "# 0931 Model"
   ]
  },
  {
   "cell_type": "code",
   "execution_count": 46,
   "metadata": {},
   "outputs": [
    {
     "name": "stdout",
     "output_type": "stream",
     "text": [
      "20/20 [==============================] - 240s 12s/step\n"
     ]
    },
    {
     "data": {
      "text/plain": [
       "array([[-0.04356998, -0.03091156, -0.0256471 , ..., -0.01283544,\n",
       "         0.03068483, -0.01057875],\n",
       "       [-0.04356998, -0.03091156, -0.0256471 , ..., -0.01283544,\n",
       "         0.03068483, -0.01057875],\n",
       "       [-0.04356998, -0.03091156, -0.0256471 , ..., -0.01283544,\n",
       "         0.03068483, -0.01057875],\n",
       "       ...,\n",
       "       [-0.20753938,  0.04265032,  0.08729036, ...,  0.23868161,\n",
       "        -0.8747734 , -0.6201932 ],\n",
       "       [-0.18936479,  0.06770484,  0.10037456, ...,  0.2932947 ,\n",
       "        -0.8707252 , -0.63595533],\n",
       "       [-0.19612044,  0.0621591 ,  0.09652372, ...,  0.3072805 ,\n",
       "        -0.8664036 , -0.6346927 ]], dtype=float32)"
      ]
     },
     "execution_count": 46,
     "metadata": {},
     "output_type": "execute_result"
    }
   ],
   "source": [
    "pred = model0931.predict([test_era5_data, test_olr_data])\n",
    "pred"
   ]
  },
  {
   "attachments": {},
   "cell_type": "markdown",
   "metadata": {},
   "source": [
    "## REGIONAL DIFFERENCES"
   ]
  },
  {
   "attachments": {},
   "cell_type": "markdown",
   "metadata": {},
   "source": [
    "### West"
   ]
  },
  {
   "cell_type": "code",
   "execution_count": 81,
   "metadata": {},
   "outputs": [
    {
     "name": "stdout",
     "output_type": "stream",
     "text": [
      "variance: 0.012014641842477834\n",
      "mean: -0.055462823069828734\n"
     ]
    },
    {
     "data": {
      "text/plain": [
       "(array([1.000e+00, 1.000e+00, 1.000e+00, 1.000e+00, 4.000e+00, 9.000e+00,\n",
       "        2.300e+01, 1.590e+02, 1.455e+03, 2.510e+02]),\n",
       " array([-1.52222054, -1.35154975, -1.18087896, -1.01020816, -0.83953737,\n",
       "        -0.66886658, -0.49819579, -0.32752499, -0.1568542 ,  0.01381659,\n",
       "         0.18448739]),\n",
       " <BarContainer object of 10 artists>)"
      ]
     },
     "execution_count": 81,
     "metadata": {},
     "output_type": "execute_result"
    },
    {
     "data": {
      "image/png": "[encoded data removed]",
      "text/plain": [
       "<Figure size 640x480 with 1 Axes>"
      ]
     },
     "metadata": {},
     "output_type": "display_data"
    }
   ],
   "source": [
    "loss = pred-test_pph_data\n",
    "w_loss = np.reshape(loss[:,0:3], (1905, 1))\n",
    "c_loss = np.reshape(loss[:,3:6], (1905, 1))\n",
    "e_loss = np.reshape(loss[:, 6:9], (1905, 1))\n",
    "print(\"variance: \"+str(np.var(w_loss)))\n",
    "print(\"mean: \"+str(np.mean(w_loss)))\n",
    "plt.hist(w_loss)"
   ]
  },
  {
   "attachments": {},
   "cell_type": "markdown",
   "metadata": {},
   "source": [
    "### Central"
   ]
  },
  {
   "cell_type": "code",
   "execution_count": 82,
   "metadata": {},
   "outputs": [
    {
     "name": "stdout",
     "output_type": "stream",
     "text": [
      "variance: 1.2683515189588501\n",
      "mean: -0.1606137925650942\n"
     ]
    },
    {
     "data": {
      "text/plain": [
       "(array([1.000e+00, 0.000e+00, 0.000e+00, 1.000e+00, 5.000e+00, 1.200e+01,\n",
       "        2.900e+01, 6.100e+01, 3.250e+02, 1.471e+03]),\n",
       " array([-16.12894452, -14.33932366, -12.54970279, -10.76008193,\n",
       "         -8.97046106,  -7.1808402 ,  -5.39121933,  -3.60159847,\n",
       "         -1.8119776 ,  -0.02235674,   1.76726413]),\n",
       " <BarContainer object of 10 artists>)"
      ]
     },
     "execution_count": 82,
     "metadata": {},
     "output_type": "execute_result"
    },
    {
     "data": {
      "image/png": "[encoded data removed]",
      "text/plain": [
       "<Figure size 640x480 with 1 Axes>"
      ]
     },
     "metadata": {},
     "output_type": "display_data"
    }
   ],
   "source": [
    "print(\"variance: \"+str(np.var(c_loss)))\n",
    "print(\"mean: \"+str(np.mean(c_loss)))\n",
    "plt.hist(c_loss)\n"
   ]
  },
  {
   "attachments": {},
   "cell_type": "markdown",
   "metadata": {},
   "source": [
    "### East"
   ]
  },
  {
   "cell_type": "code",
   "execution_count": 83,
   "metadata": {},
   "outputs": [
    {
     "name": "stdout",
     "output_type": "stream",
     "text": [
      "variance: 2.073674708370108\n",
      "mean: -0.33436821861239047\n"
     ]
    },
    {
     "data": {
      "text/plain": [
       "(array([1.000e+00, 0.000e+00, 2.000e+00, 0.000e+00, 3.000e+00, 1.000e+00,\n",
       "        5.000e+00, 7.000e+00, 5.000e+01, 1.836e+03]),\n",
       " array([-28.95550421, -26.00652224, -23.05754028, -20.10855831,\n",
       "        -17.15957634, -14.21059437, -11.2616124 ,  -8.31263044,\n",
       "         -5.36364847,  -2.4146665 ,   0.53431547]),\n",
       " <BarContainer object of 10 artists>)"
      ]
     },
     "execution_count": 83,
     "metadata": {},
     "output_type": "execute_result"
    },
    {
     "data": {
      "image/png": "[encoded data removed]",
      "text/plain": [
       "<Figure size 640x480 with 1 Axes>"
      ]
     },
     "metadata": {},
     "output_type": "display_data"
    }
   ],
   "source": [
    "print(\"variance: \"+str(np.var(e_loss)))\n",
    "print(\"mean: \"+str(np.mean(e_loss)))\n",
    "plt.hist(e_loss)"
   ]
  },
  {
   "attachments": {},
   "cell_type": "markdown",
   "metadata": {},
   "source": [
    "## SEVERE EVENT DISTRIBUTIONS "
   ]
  },
  {
   "attachments": {},
   "cell_type": "markdown",
   "metadata": {},
   "source": [
    "### Tornado"
   ]
  },
  {
   "cell_type": "code",
   "execution_count": 84,
   "metadata": {},
   "outputs": [
    {
     "name": "stdout",
     "output_type": "stream",
     "text": [
      "variance: 0.2882145380456946\n",
      "mean: -0.06135400339060761\n"
     ]
    },
    {
     "data": {
      "text/plain": [
       "(array([1.000e+00, 0.000e+00, 2.000e+00, 2.000e+00, 3.000e+00, 6.000e+00,\n",
       "        1.600e+01, 1.300e+01, 1.180e+02, 1.744e+03]),\n",
       " array([-8.80519245, -7.85177276, -6.89835306, -5.94493337, -4.99151367,\n",
       "        -4.03809398, -3.08467428, -2.13125458, -1.17783489, -0.22441519,\n",
       "         0.7290045 ]),\n",
       " <BarContainer object of 10 artists>)"
      ]
     },
     "execution_count": 84,
     "metadata": {},
     "output_type": "execute_result"
    },
    {
     "data": {
      "image/png": "[encoded data removed]",
      "text/plain": [
       "<Figure size 640x480 with 1 Axes>"
      ]
     },
     "metadata": {},
     "output_type": "display_data"
    }
   ],
   "source": [
    "t_loss = np.reshape(loss[:, [0, 3, 6]], (1905, 1))\n",
    "wi_loss = np.reshape(loss[:, [1, 4, 7]], (1905, 1))\n",
    "h_loss = np.reshape(loss[:, [2, 5, 8]], (1905, 1))\n",
    "\n",
    "print(\"variance: \"+str(np.var(t_loss)))\n",
    "print(\"mean: \"+str(np.mean(t_loss)))\n",
    "plt.hist(t_loss)"
   ]
  },
  {
   "attachments": {},
   "cell_type": "markdown",
   "metadata": {},
   "source": [
    "### Severe Wind"
   ]
  },
  {
   "cell_type": "code",
   "execution_count": 85,
   "metadata": {},
   "outputs": [
    {
     "name": "stdout",
     "output_type": "stream",
     "text": [
      "variance: 2.243096618978362\n",
      "mean: -0.3238367535335388\n"
     ]
    },
    {
     "data": {
      "text/plain": [
       "(array([1.000e+00, 0.000e+00, 2.000e+00, 0.000e+00, 3.000e+00, 1.000e+00,\n",
       "        4.000e+00, 1.500e+01, 6.700e+01, 1.812e+03]),\n",
       " array([-28.95550421, -25.92482599, -22.89414777, -19.86346956,\n",
       "        -16.83279134, -13.80211312, -10.7714349 ,  -7.74075668,\n",
       "         -4.71007846,  -1.67940024,   1.35127797]),\n",
       " <BarContainer object of 10 artists>)"
      ]
     },
     "execution_count": 85,
     "metadata": {},
     "output_type": "execute_result"
    },
    {
     "data": {
      "image/png": "[encoded data removed]",
      "text/plain": [
       "<Figure size 640x480 with 1 Axes>"
      ]
     },
     "metadata": {},
     "output_type": "display_data"
    }
   ],
   "source": [
    "print(\"variance: \"+str(np.var(wi_loss)))\n",
    "print(\"mean: \"+str(np.mean(wi_loss)))\n",
    "plt.hist(wi_loss)"
   ]
  },
  {
   "attachments": {},
   "cell_type": "markdown",
   "metadata": {},
   "source": [
    "#### Doing regional distribution of severe wind because it has the highest variance"
   ]
  },
  {
   "cell_type": "code",
   "execution_count": 95,
   "metadata": {},
   "outputs": [
    {
     "name": "stdout",
     "output_type": "stream",
     "text": [
      "variance west wind: 0.012892305290971335\n",
      "mean west wind: -0.056094028982919736\n"
     ]
    },
    {
     "data": {
      "text/plain": [
       "(array([  1.,   0.,   0.,   1.,   2.,   3.,   8.,  23., 505.,  92.]),\n",
       " array([-1.52222054, -1.35239949, -1.18257844, -1.01275739, -0.84293634,\n",
       "        -0.67311528, -0.50329423, -0.33347318, -0.16365213,  0.00616892,\n",
       "         0.17598998]),\n",
       " <BarContainer object of 10 artists>)"
      ]
     },
     "execution_count": 95,
     "metadata": {},
     "output_type": "execute_result"
    },
    {
     "data": {
      "image/png": "[encoded data removed]",
      "text/plain": [
       "<Figure size 640x480 with 1 Axes>"
      ]
     },
     "metadata": {},
     "output_type": "display_data"
    }
   ],
   "source": [
    "wiw = np.reshape(loss[:, [1]], (635, 1))\n",
    "print(\"variance west wind: \"+str(np.var(wiw[:, 0])))\n",
    "print(\"mean west wind: \"+str(np.mean(wiw[:, 0])))\n",
    "plt.hist(wiw[:, 0])"
   ]
  },
  {
   "cell_type": "code",
   "execution_count": 96,
   "metadata": {},
   "outputs": [
    {
     "name": "stdout",
     "output_type": "stream",
     "text": [
      "variance west wind: 2.1866464721777823\n",
      "mean west wind: -0.31963187300961093\n"
     ]
    },
    {
     "data": {
      "text/plain": [
       "(array([  1.,   0.,   0.,   1.,   1.,   8.,  15.,  26.,  65., 518.]),\n",
       " array([-16.12894452, -14.38092227, -12.63290002, -10.88487777,\n",
       "         -9.13685552,  -7.38883327,  -5.64081102,  -3.89278877,\n",
       "         -2.14476653,  -0.39674428,   1.35127797]),\n",
       " <BarContainer object of 10 artists>)"
      ]
     },
     "execution_count": 96,
     "metadata": {},
     "output_type": "execute_result"
    },
    {
     "data": {
      "image/png": "[encoded data removed]",
      "text/plain": [
       "<Figure size 640x480 with 1 Axes>"
      ]
     },
     "metadata": {},
     "output_type": "display_data"
    }
   ],
   "source": [
    "wic = np.reshape(loss[:, [4]], (635, 1))\n",
    "print(\"variance central wind: \"+str(np.var(wic[:, 0])))\n",
    "print(\"mean central wind: \"+str(np.mean(wic[:, 0])))\n",
    "plt.hist(wic[:, 0])"
   ]
  },
  {
   "cell_type": "code",
   "execution_count": 97,
   "metadata": {},
   "outputs": [
    {
     "name": "stdout",
     "output_type": "stream",
     "text": [
      "variance east wind: 4.3840917319905435\n",
      "mean east wind: -0.5957843586080855\n"
     ]
    },
    {
     "data": {
      "text/plain": [
       "(array([  1.,   0.,   2.,   0.,   2.,   1.,   3.,   1.,  16., 609.]),\n",
       " array([-28.95550421, -26.05131544, -23.14712667, -20.24293789,\n",
       "        -17.33874912, -14.43456035, -11.53037157,  -8.6261828 ,\n",
       "         -5.72199403,  -2.81780525,   0.08638352]),\n",
       " <BarContainer object of 10 artists>)"
      ]
     },
     "execution_count": 97,
     "metadata": {},
     "output_type": "execute_result"
    },
    {
     "data": {
      "image/png": "[encoded data removed]",
      "text/plain": [
       "<Figure size 640x480 with 1 Axes>"
      ]
     },
     "metadata": {},
     "output_type": "display_data"
    }
   ],
   "source": [
    "wie = np.reshape(loss[:, [7]], (635, 1))\n",
    "print(\"variance east wind: \"+str(np.var(wie[:, 0])))\n",
    "print(\"mean east wind: \"+str(np.mean(wie[:, 0])))\n",
    "plt.hist(wie[:, 0])"
   ]
  },
  {
   "attachments": {},
   "cell_type": "markdown",
   "metadata": {},
   "source": [
    "### Hail"
   ]
  },
  {
   "cell_type": "code",
   "execution_count": 86,
   "metadata": {},
   "outputs": [
    {
     "name": "stdout",
     "output_type": "stream",
     "text": [
      "variance: 0.8274612661272931\n",
      "mean: -0.16525407732316702\n"
     ]
    },
    {
     "data": {
      "text/plain": [
       "(array([1.000e+00, 0.000e+00, 0.000e+00, 1.000e+00, 2.000e+00, 7.000e+00,\n",
       "        1.400e+01, 3.400e+01, 4.310e+02, 1.415e+03]),\n",
       " array([-16.73774988, -14.88724848, -13.03674708, -11.18624568,\n",
       "         -9.33574428,  -7.48524288,  -5.63474148,  -3.78424008,\n",
       "         -1.93373867,  -0.08323727,   1.76726413]),\n",
       " <BarContainer object of 10 artists>)"
      ]
     },
     "execution_count": 86,
     "metadata": {},
     "output_type": "execute_result"
    },
    {
     "data": {
      "image/png": "[encoded data removed]",
      "text/plain": [
       "<Figure size 640x480 with 1 Axes>"
      ]
     },
     "metadata": {},
     "output_type": "display_data"
    }
   ],
   "source": [
    "print(\"variance: \"+str(np.var(h_loss)))\n",
    "print(\"mean: \"+str(np.mean(h_loss)))\n",
    "plt.hist(h_loss)"
   ]
  },
  {
   "attachments": {},
   "cell_type": "markdown",
   "metadata": {},
   "source": [
    "# 095 Model"
   ]
  },
  {
   "cell_type": "code",
   "execution_count": 8,
   "metadata": {},
   "outputs": [
    {
     "name": "stdout",
     "output_type": "stream",
     "text": [
      "20/20 [==============================] - 154s 8s/step\n"
     ]
    },
    {
     "data": {
      "text/plain": [
       "array([[0., 0., 0., ..., 0., 0., 0.],\n",
       "       [0., 0., 0., ..., 0., 0., 0.],\n",
       "       [0., 0., 0., ..., 0., 0., 0.],\n",
       "       ...,\n",
       "       [0., 0., 0., ..., 0., 0., 0.],\n",
       "       [0., 0., 0., ..., 0., 0., 0.],\n",
       "       [0., 0., 0., ..., 0., 0., 0.]], dtype=float32)"
      ]
     },
     "execution_count": 8,
     "metadata": {},
     "output_type": "execute_result"
    }
   ],
   "source": [
    "pred = model095.predict([test_era5_data, test_olr_data])\n",
    "pred"
   ]
  },
  {
   "cell_type": "code",
   "execution_count": 9,
   "metadata": {},
   "outputs": [
    {
     "name": "stdout",
     "output_type": "stream",
     "text": [
      "variance: 0.008694742563123557\n",
      "mean: -0.0198891922644252\n"
     ]
    },
    {
     "data": {
      "text/plain": [
       "(array([1.00e+00, 2.00e+00, 0.00e+00, 1.00e+00, 4.00e+00, 2.00e+00,\n",
       "        1.30e+01, 8.00e+00, 5.40e+01, 1.82e+03]),\n",
       " array([-1.52236925, -1.36699163, -1.21161401, -1.05623639, -0.90085876,\n",
       "        -0.74548114, -0.59010352, -0.4347259 , -0.27934827, -0.12397065,\n",
       "         0.03140697]),\n",
       " <BarContainer object of 10 artists>)"
      ]
     },
     "execution_count": 9,
     "metadata": {},
     "output_type": "execute_result"
    },
    {
     "data": {
      "image/png": "[encoded data removed]",
      "text/plain": [
       "<Figure size 640x480 with 1 Axes>"
      ]
     },
     "metadata": {},
     "output_type": "display_data"
    }
   ],
   "source": [
    "loss = pred-test_pph_data\n",
    "w_loss = np.reshape(loss[:,0:3], (1905, 1))\n",
    "c_loss = np.reshape(loss[:,3:6], (1905, 1))\n",
    "e_loss = np.reshape(loss[:, 6:9], (1905, 1))\n",
    "print(\"variance: \"+str(np.var(w_loss)))\n",
    "print(\"mean: \"+str(np.mean(w_loss)))\n",
    "plt.hist(w_loss)"
   ]
  },
  {
   "cell_type": "code",
   "execution_count": 10,
   "metadata": {},
   "outputs": [
    {
     "name": "stdout",
     "output_type": "stream",
     "text": [
      "variance: 1.2671331818458118\n",
      "mean: -0.22342284961679634\n"
     ]
    },
    {
     "data": {
      "text/plain": [
       "(array([1.000e+00, 0.000e+00, 0.000e+00, 1.000e+00, 5.000e+00, 1.100e+01,\n",
       "        2.900e+01, 5.900e+01, 2.320e+02, 1.567e+03]),\n",
       " array([-16.11543895, -14.35138574, -12.58733252, -10.8232793 ,\n",
       "         -9.05922608,  -7.29517287,  -5.53111965,  -3.76706643,\n",
       "         -2.00301321,  -0.23896   ,   1.52509322]),\n",
       " <BarContainer object of 10 artists>)"
      ]
     },
     "execution_count": 10,
     "metadata": {},
     "output_type": "execute_result"
    },
    {
     "data": {
      "image/png": "[encoded data removed]",
      "text/plain": [
       "<Figure size 640x480 with 1 Axes>"
      ]
     },
     "metadata": {},
     "output_type": "display_data"
    }
   ],
   "source": [
    "print(\"variance: \"+str(np.var(c_loss)))\n",
    "print(\"mean: \"+str(np.mean(c_loss)))\n",
    "plt.hist(c_loss)"
   ]
  },
  {
   "cell_type": "code",
   "execution_count": 11,
   "metadata": {},
   "outputs": [
    {
     "name": "stdout",
     "output_type": "stream",
     "text": [
      "variance: 1.9065472082480195\n",
      "mean: -0.21297376800208734\n"
     ]
    },
    {
     "data": {
      "text/plain": [
       "(array([1.000e+00, 0.000e+00, 1.000e+00, 1.000e+00, 3.000e+00, 1.000e+00,\n",
       "        5.000e+00, 5.000e+00, 2.600e+01, 1.862e+03]),\n",
       " array([-2.82417764e+01, -2.54149915e+01, -2.25882065e+01, -1.97614216e+01,\n",
       "        -1.69346366e+01, -1.41078517e+01, -1.12810667e+01, -8.45428175e+00,\n",
       "        -5.62749679e+00, -2.80071184e+00,  2.60731187e-02]),\n",
       " <BarContainer object of 10 artists>)"
      ]
     },
     "execution_count": 11,
     "metadata": {},
     "output_type": "execute_result"
    },
    {
     "data": {
      "image/png": "[encoded data removed]",
      "text/plain": [
       "<Figure size 640x480 with 1 Axes>"
      ]
     },
     "metadata": {},
     "output_type": "display_data"
    }
   ],
   "source": [
    "print(\"variance: \"+str(np.var(e_loss)))\n",
    "print(\"mean: \"+str(np.mean(e_loss)))\n",
    "plt.hist(e_loss)"
   ]
  },
  {
   "cell_type": "code",
   "execution_count": 12,
   "metadata": {},
   "outputs": [
    {
     "name": "stdout",
     "output_type": "stream",
     "text": [
      "variance: 0.28374502614799\n",
      "mean: -0.07420331464448976\n"
     ]
    },
    {
     "data": {
      "text/plain": [
       "(array([1.000e+00, 0.000e+00, 2.000e+00, 1.000e+00, 4.000e+00, 7.000e+00,\n",
       "        1.600e+01, 1.200e+01, 4.400e+01, 1.818e+03]),\n",
       " array([-8.77082906, -7.83798894, -6.90514881, -5.97230869, -5.03946856,\n",
       "        -4.10662844, -3.17378832, -2.24094819, -1.30810807, -0.37526794,\n",
       "         0.55757218]),\n",
       " <BarContainer object of 10 artists>)"
      ]
     },
     "execution_count": 12,
     "metadata": {},
     "output_type": "execute_result"
    },
    {
     "data": {
      "image/png": "[encoded data removed]",
      "text/plain": [
       "<Figure size 640x480 with 1 Axes>"
      ]
     },
     "metadata": {},
     "output_type": "display_data"
    }
   ],
   "source": [
    "t_loss = np.reshape(loss[:, [0, 3, 6]], (1905, 1))\n",
    "wi_loss = np.reshape(loss[:, [1, 4, 7]], (1905, 1))\n",
    "h_loss = np.reshape(loss[:, [2, 5, 8]], (1905, 1))\n",
    "\n",
    "print(\"variance: \"+str(np.var(t_loss)))\n",
    "print(\"mean: \"+str(np.mean(t_loss)))\n",
    "plt.hist(t_loss)"
   ]
  },
  {
   "cell_type": "code",
   "execution_count": 13,
   "metadata": {},
   "outputs": [
    {
     "name": "stdout",
     "output_type": "stream",
     "text": [
      "variance: 2.124466750602473\n",
      "mean: -0.2517286947984754\n"
     ]
    },
    {
     "data": {
      "text/plain": [
       "(array([1.000e+00, 0.000e+00, 2.000e+00, 0.000e+00, 3.000e+00, 1.000e+00,\n",
       "        4.000e+00, 1.600e+01, 6.200e+01, 1.816e+03]),\n",
       " array([-28.24177644, -25.3079161 , -22.37405576, -19.44019542,\n",
       "        -16.50633509, -13.57247475, -10.63861441,  -7.70475407,\n",
       "         -4.77089373,  -1.83703339,   1.09682695]),\n",
       " <BarContainer object of 10 artists>)"
      ]
     },
     "execution_count": 13,
     "metadata": {},
     "output_type": "execute_result"
    },
    {
     "data": {
      "image/png": "[encoded data removed]",
      "text/plain": [
       "<Figure size 640x480 with 1 Axes>"
      ]
     },
     "metadata": {},
     "output_type": "display_data"
    }
   ],
   "source": [
    "print(\"variance: \"+str(np.var(wi_loss)))\n",
    "print(\"mean: \"+str(np.mean(wi_loss)))\n",
    "plt.hist(wi_loss)"
   ]
  },
  {
   "cell_type": "code",
   "execution_count": 15,
   "metadata": {},
   "outputs": [
    {
     "name": "stdout",
     "output_type": "stream",
     "text": [
      "variance: 4.112782035222586\n",
      "mean: -0.34138536531096486\n"
     ]
    },
    {
     "data": {
      "text/plain": [
       "(array([  1.,   0.,   1.,   1.,   2.,   1.,   3.,   1.,   8., 617.]),\n",
       " array([-28.24177644, -25.4175988 , -22.59342115, -19.76924351,\n",
       "        -16.94506586, -14.12088822, -11.29671058,  -8.47253293,\n",
       "         -5.64835529,  -2.82417764,   0.        ]),\n",
       " <BarContainer object of 10 artists>)"
      ]
     },
     "execution_count": 15,
     "metadata": {},
     "output_type": "execute_result"
    },
    {
     "data": {
      "image/png": "[encoded data removed]",
      "text/plain": [
       "<Figure size 640x480 with 1 Axes>"
      ]
     },
     "metadata": {},
     "output_type": "display_data"
    }
   ],
   "source": [
    "wie_loss = np.reshape(loss[:, [7]], (635, 1))\n",
    "print(\"variance: \"+str(np.var(wie_loss)))\n",
    "print(\"mean: \"+str(np.mean(wie_loss)))\n",
    "plt.hist(wie_loss)"
   ]
  },
  {
   "cell_type": "code",
   "execution_count": 14,
   "metadata": {},
   "outputs": [
    {
     "name": "stdout",
     "output_type": "stream",
     "text": [
      "variance: 0.7839689504849054\n",
      "mean: -0.13035380044034373\n"
     ]
    },
    {
     "data": {
      "text/plain": [
       "(array([1.000e+00, 0.000e+00, 0.000e+00, 1.000e+00, 2.000e+00, 6.000e+00,\n",
       "        1.500e+01, 3.700e+01, 1.110e+02, 1.732e+03]),\n",
       " array([-16.35590143, -14.56780196, -12.7797025 , -10.99160303,\n",
       "         -9.20350357,  -7.4154041 ,  -5.62730464,  -3.83920517,\n",
       "         -2.05110571,  -0.26300624,   1.52509322]),\n",
       " <BarContainer object of 10 artists>)"
      ]
     },
     "execution_count": 14,
     "metadata": {},
     "output_type": "execute_result"
    },
    {
     "data": {
      "image/png": "[encoded data removed]",
      "text/plain": [
       "<Figure size 640x480 with 1 Axes>"
      ]
     },
     "metadata": {},
     "output_type": "display_data"
    }
   ],
   "source": [
    "print(\"variance: \"+str(np.var(h_loss)))\n",
    "print(\"mean: \"+str(np.mean(h_loss)))\n",
    "plt.hist(h_loss)"
   ]
  },
  {
   "cell_type": "code",
   "execution_count": null,
   "metadata": {},
   "outputs": [],
   "source": []
  }
 ],
 "metadata": {
  "kernelspec": {
   "display_name": "reu_proj",
   "language": "python",
   "name": "python3"
  },
  "language_info": {
   "codemirror_mode": {
    "name": "ipython",
    "version": 3
   },
   "file_extension": ".py",
   "mimetype": "text/x-python",
   "name": "python",
   "nbconvert_exporter": "python",
   "pygments_lexer": "ipython3",
   "version": "3.9.16"
  },
  "orig_nbformat": 4
 },
 "nbformat": 4,
 "nbformat_minor": 2
}
