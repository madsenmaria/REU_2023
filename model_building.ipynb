{
 "cells": [
  {
   "cell_type": "code",
   "execution_count": 1,
   "metadata": {},
   "outputs": [
    {
     "name": "stdout",
     "output_type": "stream",
     "text": [
      "Intel MKL WARNING: Support of Intel(R) Streaming SIMD Extensions 4.2 (Intel(R) SSE4.2) enabled only processors has been deprecated. Intel oneAPI Math Kernel Library 2025.0 will require Intel(R) Advanced Vector Extensions (Intel(R) AVX) instructions.\n",
      "Intel MKL WARNING: Support of Intel(R) Streaming SIMD Extensions 4.2 (Intel(R) SSE4.2) enabled only processors has been deprecated. Intel oneAPI Math Kernel Library 2025.0 will require Intel(R) Advanced Vector Extensions (Intel(R) AVX) instructions.\n"
     ]
    },
    {
     "name": "stderr",
     "output_type": "stream",
     "text": [
      "2023-06-15 13:14:19.581460: I tensorflow/core/platform/cpu_feature_guard.cc:193] This TensorFlow binary is optimized with oneAPI Deep Neural Network Library (oneDNN) to use the following CPU instructions in performance-critical operations:  SSE4.1 SSE4.2\n",
      "To enable them in other operations, rebuild TensorFlow with the appropriate compiler flags.\n"
     ]
    }
   ],
   "source": [
    "import pandas as pd\n",
    "import numpy as np\n",
    "from scipy.io import loadmat\n",
    "import xarray as xr\n",
    "import matplotlib.pyplot as plt\n",
    "from tensorflow import keras\n",
    "from tensorflow.keras import layers\n",
    "import seaborn as sns"
   ]
  },
  {
   "cell_type": "code",
   "execution_count": 2,
   "metadata": {},
   "outputs": [],
   "source": [
    "# TODO: put data in a data folder\n",
    "df_olr = xr.open_dataset('olr_data.nc') \n",
    "df_pph = xr.open_dataset('pph_data.nc')\n",
    "df_wg = xr.open_dataset('wind_geopot_data.nc')"
   ]
  },
  {
   "attachments": {},
   "cell_type": "markdown",
   "metadata": {},
   "source": [
    "### Taking out 1982/83 season"
   ]
  },
  {
   "cell_type": "code",
   "execution_count": 3,
   "metadata": {},
   "outputs": [],
   "source": [
    "#take out 1982-5 -> 1983-5\n",
    "cut_time_slice1 = slice('1979', '1982-5')\n",
    "cut_time_slice2 = slice('1983-11', '2019')\n",
    "\n",
    "df_olr = xr.merge([df_olr.sel(time=cut_time_slice1), df_olr.sel(time=cut_time_slice2)])\n",
    "df_pph = xr.merge([df_pph.sel(time=cut_time_slice1), df_pph.sel(time=cut_time_slice2)])\n",
    "df_wg = xr.merge([df_wg.sel(time=cut_time_slice1), df_wg.sel(time=cut_time_slice2)])\n"
   ]
  },
  {
   "attachments": {},
   "cell_type": "markdown",
   "metadata": {},
   "source": [
    "### Picking out the Anomolies for OLR Data"
   ]
  },
  {
   "cell_type": "code",
   "execution_count": 4,
   "metadata": {},
   "outputs": [],
   "source": [
    "#calculate olr anomolies\n",
    "\n",
    "#take the 21-day running means (for olr by mean)\n",
    "olr_short = df_olr.olr.values\n",
    "olr_byyear = np.reshape(olr_short, (212, 39, 13, 144))\n",
    "\n",
    "season_meanolr = np.zeros((212, 13, 144))\n",
    "\n",
    "for i in range(1,212):\n",
    "    season_meanolr[i, :,:] = np.mean(np.squeeze(olr_byyear[i,:,:,:]))\n",
    "\n",
    "season_meanolr\n",
    "\n",
    "olr_day = np.roll(season_meanolr, (21,1))\n",
    "\n",
    "\n",
    "olr_season = np.zeros((212, 39, 13, 144))\n",
    "\n",
    "#subtract out the 21-day running mean to get anomalies\n",
    "for i in range(1,39):\n",
    "    for j in range(1,212):\n",
    "        olr_season[j, i, :, :] = np.squeeze(olr_byyear[j,i,:,:]) - np.squeeze(olr_day[j,:,:])\n",
    "olr_season\n",
    "\n",
    "\n",
    "#take 5-day running mean to smooth out the data\n",
    "olr = olr_season\n",
    "olr = np.zeros((212, 39, 13, 144))\n",
    "\n",
    "for i in range(1,39):\n",
    "    olr[:, i, :, :] = np.roll(np.squeeze(olr_season[:, i, :, :]), (5,1))\n",
    "\n",
    "\n",
    "df_olr.olr.values = np.reshape(olr, (8268, 13, 144))"
   ]
  },
  {
   "attachments": {},
   "cell_type": "markdown",
   "metadata": {},
   "source": [
    "### Post-Normalized Graphs of the Data"
   ]
  },
  {
   "cell_type": "code",
   "execution_count": 6,
   "metadata": {},
   "outputs": [
    {
     "data": {
      "text/plain": [
       "(array([3.044800e+04, 6.873220e+05, 2.621158e+06, 6.909057e+06,\n",
       "        5.222788e+06, 6.087000e+03, 0.000000e+00, 1.800000e+01,\n",
       "        1.140000e+02, 7.040000e+02]),\n",
       " array([-4.85600848, -3.48210102, -2.10819357, -0.73428612,  0.63962133,\n",
       "         2.01352878,  3.38743623,  4.76134368,  6.13525114,  7.50915859,\n",
       "         8.88306604]),\n",
       " <BarContainer object of 10 artists>)"
      ]
     },
     "execution_count": 6,
     "metadata": {},
     "output_type": "execute_result"
    },
    {
     "data": {
      "image/png": "[encoded data removed]",
      "text/plain": [
       "<Figure size 640x480 with 1 Axes>"
      ]
     },
     "metadata": {},
     "output_type": "display_data"
    }
   ],
   "source": [
    "plt.hist(list(np.reshape(df_olr.olr.values, (15477696, 1))[:, 0]))"
   ]
  },
  {
   "cell_type": "code",
   "execution_count": 13,
   "metadata": {},
   "outputs": [
    {
     "data": {
      "text/plain": [
       "(array([9.3200000e+02, 2.9891000e+04, 5.2861200e+05, 6.2866100e+06,\n",
       "        3.6799447e+07, 4.6042187e+07, 1.0840932e+07, 1.0454670e+06,\n",
       "        4.6925000e+04, 9.8500000e+02]),\n",
       " array([-6.68076329, -5.37567764, -4.07059199, -2.76550634, -1.46042068,\n",
       "        -0.15533503,  1.14975062,  2.45483628,  3.75992193,  5.06500758,\n",
       "         6.37009323]),\n",
       " <BarContainer object of 10 artists>)"
      ]
     },
     "execution_count": 13,
     "metadata": {},
     "output_type": "execute_result"
    },
    {
     "data": {
      "image/png": "[encoded data removed]",
      "text/plain": [
       "<Figure size 640x480 with 1 Axes>"
      ]
     },
     "metadata": {},
     "output_type": "display_data"
    }
   ],
   "source": [
    "plt.hist(list(np.reshape(df_wg.u250.values, (101621988, 1))[:, 0]))"
   ]
  },
  {
   "attachments": {},
   "cell_type": "markdown",
   "metadata": {},
   "source": [
    "### Normalizing the Data"
   ]
  },
  {
   "cell_type": "code",
   "execution_count": 5,
   "metadata": {},
   "outputs": [],
   "source": [
    "#normalizing z500 data\n",
    "z500_means = np.mean(df_wg.z500.values)\n",
    "z500_std = np.std(df_wg.z500.values)\n",
    "df_wg.z500.values = (df_wg.z500.values - z500_means)/z500_std\n",
    "\n",
    "#normalizing u250 data\n",
    "u250_means = np.mean(df_wg.u250.values)\n",
    "u250_std = np.std(df_wg.u250.values)\n",
    "df_wg.u250.values = (df_wg.u250.values - u250_means)/u250_std\n",
    "\n",
    "#normalizing olr data\n",
    "olr_means = np.mean(df_olr.olr.values)\n",
    "olr_std = np.std(df_olr.olr.values)\n",
    "df_olr.olr.values = (df_olr.olr.values - olr_means)/olr_std\n"
   ]
  },
  {
   "cell_type": "code",
   "execution_count": 17,
   "metadata": {},
   "outputs": [],
   "source": [
    "#creating a list of all the dates being used\n",
    "label_list = list(np.datetime_as_string(df_olr.time.values))\n",
    "for i, val in enumerate(label_list):\n",
    "    label_list[i] = val.split('T')[0]"
   ]
  },
  {
   "attachments": {},
   "cell_type": "markdown",
   "metadata": {},
   "source": [
    "### Seperating PPH Data by Location and Type\n",
    "This is where I made the daily means for pph values at each location. It took forever to run so I commented it out and downloaded it as a csv file called ('pph_loc_mean.csv'). "
   ]
  },
  {
   "cell_type": "code",
   "execution_count": null,
   "metadata": {},
   "outputs": [],
   "source": [
    "# locators\n",
    "\n",
    "# finds the mean at specific dates and types of scs in the West\n",
    "def west_locator(date, scs):\n",
    "    d = df_pph.sel(time=date).lon.values  #gets lon values from date\n",
    "\n",
    "    w = np.where((d < -105) & (d > -120)) # finds what lon values are in the west US\n",
    "\n",
    "\n",
    "    l = 0\n",
    "    # puts tor values in the west US into a array \n",
    "    for i in range(np.size(w[0])):\n",
    "        l = l +df_pph.sel(time=date, x=w[0][i], y = w[1][i])[scs].values\n",
    "\n",
    "    #returns sum of events\n",
    "    return l/len(w[0]) \n",
    "\n",
    "# finds the mean at specific dates and types of scs in central US\n",
    "def central_locator(date, scs):\n",
    "    d = df_pph.sel(time=date).lon.values \n",
    "    a = df_pph.sel(time=date).lat.values \n",
    "\n",
    "\n",
    "    w_1 = np.where((d > -105) & (d < -94.6) & (a > 25) & (a < 36.5)) # west coordinates in d\n",
    "    w_2 = np.where((d > -105) & (d < -80.5) & (a > 36.5) & (a < 49)) # west coordinates in d\n",
    "\n",
    "    l=0\n",
    "    for i in range(np.size(w_1[0])):\n",
    "        l= l+df_pph.sel(time=date, x=w_1[0][i], y = w_1[1][i])[scs].values\n",
    "\n",
    "    for i in range(np.size(w_2[0])):\n",
    "        l=l+df_pph.sel(time=date, x=w_2[0][i], y = w_2[1][i])[scs].values\n",
    "\n",
    "    return l/(len(w_1[0]) + len(w_2[0]))\n",
    "\n",
    "# finds the mean at specific dates and types of scs in the East\n",
    "def east_locater (date, scs):\n",
    "    d = df_pph.sel(time=date).lon.values \n",
    "    a = df_pph.sel(time=date).lat.values \n",
    "\n",
    "    w_1 = np.where((d > -83) & (d < -79.8) & (a > 25) & (a < 29)) \n",
    "    w_2 = np.where((d > 94.6) & (d < -85) & (a > 29) & (a < 36.5)) \n",
    "    w_3 = np.where((d > 80.5) & (d < -66) & (a > 36.5) & (a < 49)) \n",
    "\n",
    "    \n",
    "    l=0\n",
    "    for i in range(np.size(w_1[0])):\n",
    "        l= l+df_pph.sel(time=date, x=w_1[0][i], y = w_1[1][i])[scs].values\n",
    "\n",
    "    for i in range(np.size(w_2[0])):\n",
    "        l=l+df_pph.sel(time=date, x=w_2[0][i], y = w_2[1][i])[scs].values\n",
    "\n",
    "    for i in range(np.size(w_3[0])):\n",
    "        l=l+df_pph.sel(time=date, x=w_3[0][i], y = w_3[1][i])[scs].values\n",
    "\n",
    "    return l/(len(w_1[0]) + len(w_2[0]) + len(w_3[0]))\n"
   ]
  },
  {
   "cell_type": "code",
   "execution_count": null,
   "metadata": {},
   "outputs": [],
   "source": [
    "\n",
    "'''\n",
    "west_tor = dict()\n",
    "west_wind = dict()\n",
    "west_hail = dict()\n",
    "\n",
    "central_tor = dict()\n",
    "central_wind = dict()\n",
    "central_hail = dict()\n",
    "\n",
    "east_tor = dict()\n",
    "east_wind = dict()\n",
    "east_hail = dict()\n",
    "\n",
    "for date in label_list:\n",
    "    west_tor[date] = west_locator(date, 'tor')\n",
    "    west_wind[date] = west_locator(date, 'wind')\n",
    "    west_hail[date] = west_locator(date, 'hail')\n",
    "\n",
    "    central_tor[date] = central_locator(date, 'tor')\n",
    "    central_wind[date] = central_locator(date, 'wind')\n",
    "    central_hail[date] = central_locator(date, 'hail')\n",
    "\n",
    "    east_tor[date] = east_locater(date, 'tor')\n",
    "    east_wind[date] = east_locater(date, 'wind')\n",
    "    east_hail[date] = east_locater(date, 'hail')\n",
    "\n",
    "here = pd.DataFrame.from_dict(west_tor, orient='index').rename(columns={0: 'west_tor'})\n",
    "here['west_wind'] = list(west_wind.values())\n",
    "here['west_hail'] = list(west_hail.values())\n",
    "\n",
    "here['central_tor'] = list(central_tor.values())\n",
    "here['central_wind'] = list(central_wind.values())\n",
    "here['central_hail'] = list(central_hail.values())\n",
    "\n",
    "here['east_tor'] = list(east_tor.values())\n",
    "here['east_wind'] = list(east_wind.values())\n",
    "here['east_hail'] = list(east_hail.values())\n",
    "\n",
    "here.to_csv('./pph_loc_mean.csv')\n",
    "\n",
    "'''"
   ]
  },
  {
   "cell_type": "code",
   "execution_count": 15,
   "metadata": {},
   "outputs": [
    {
     "data": {
      "text/html": [
       "<div>\n",
       "<style scoped>\n",
       "    .dataframe tbody tr th:only-of-type {\n",
       "        vertical-align: middle;\n",
       "    }\n",
       "\n",
       "    .dataframe tbody tr th {\n",
       "        vertical-align: top;\n",
       "    }\n",
       "\n",
       "    .dataframe thead th {\n",
       "        text-align: right;\n",
       "    }\n",
       "</style>\n",
       "<table border=\"1\" class=\"dataframe\">\n",
       "  <thead>\n",
       "    <tr style=\"text-align: right;\">\n",
       "      <th></th>\n",
       "      <th>west_tor</th>\n",
       "      <th>west_wind</th>\n",
       "      <th>west_hail</th>\n",
       "      <th>central_tor</th>\n",
       "      <th>central_wind</th>\n",
       "      <th>central_hail</th>\n",
       "      <th>east_tor</th>\n",
       "      <th>east_wind</th>\n",
       "      <th>east_hail</th>\n",
       "    </tr>\n",
       "    <tr>\n",
       "      <th>date</th>\n",
       "      <th></th>\n",
       "      <th></th>\n",
       "      <th></th>\n",
       "      <th></th>\n",
       "      <th></th>\n",
       "      <th></th>\n",
       "      <th></th>\n",
       "      <th></th>\n",
       "      <th></th>\n",
       "    </tr>\n",
       "  </thead>\n",
       "  <tbody>\n",
       "    <tr>\n",
       "      <th>1979-11-01</th>\n",
       "      <td>0.000000</td>\n",
       "      <td>0.000000</td>\n",
       "      <td>0.000000</td>\n",
       "      <td>0.000000</td>\n",
       "      <td>0.000000</td>\n",
       "      <td>0.000000</td>\n",
       "      <td>0.0</td>\n",
       "      <td>0.000000</td>\n",
       "      <td>0.000000</td>\n",
       "    </tr>\n",
       "    <tr>\n",
       "      <th>1979-11-02</th>\n",
       "      <td>0.000000</td>\n",
       "      <td>0.000000</td>\n",
       "      <td>0.000000</td>\n",
       "      <td>0.000000</td>\n",
       "      <td>0.000000</td>\n",
       "      <td>0.000000</td>\n",
       "      <td>0.0</td>\n",
       "      <td>0.000000</td>\n",
       "      <td>0.000000</td>\n",
       "    </tr>\n",
       "    <tr>\n",
       "      <th>1979-11-03</th>\n",
       "      <td>0.000000</td>\n",
       "      <td>0.000000</td>\n",
       "      <td>0.000000</td>\n",
       "      <td>0.000000</td>\n",
       "      <td>0.000000</td>\n",
       "      <td>0.000000</td>\n",
       "      <td>0.0</td>\n",
       "      <td>0.000000</td>\n",
       "      <td>0.000000</td>\n",
       "    </tr>\n",
       "    <tr>\n",
       "      <th>1979-11-04</th>\n",
       "      <td>0.000000</td>\n",
       "      <td>0.000000</td>\n",
       "      <td>0.000000</td>\n",
       "      <td>0.000000</td>\n",
       "      <td>0.000000</td>\n",
       "      <td>0.000000</td>\n",
       "      <td>0.0</td>\n",
       "      <td>0.000000</td>\n",
       "      <td>0.000000</td>\n",
       "    </tr>\n",
       "    <tr>\n",
       "      <th>1979-11-05</th>\n",
       "      <td>0.000000</td>\n",
       "      <td>0.000000</td>\n",
       "      <td>0.000000</td>\n",
       "      <td>0.000000</td>\n",
       "      <td>0.000000</td>\n",
       "      <td>0.000000</td>\n",
       "      <td>0.0</td>\n",
       "      <td>0.000000</td>\n",
       "      <td>0.000000</td>\n",
       "    </tr>\n",
       "    <tr>\n",
       "      <th>...</th>\n",
       "      <td>...</td>\n",
       "      <td>...</td>\n",
       "      <td>...</td>\n",
       "      <td>...</td>\n",
       "      <td>...</td>\n",
       "      <td>...</td>\n",
       "      <td>...</td>\n",
       "      <td>...</td>\n",
       "      <td>...</td>\n",
       "    </tr>\n",
       "    <tr>\n",
       "      <th>2019-05-27</th>\n",
       "      <td>0.200550</td>\n",
       "      <td>0.038387</td>\n",
       "      <td>0.274401</td>\n",
       "      <td>3.712219</td>\n",
       "      <td>4.844967</td>\n",
       "      <td>5.126097</td>\n",
       "      <td>0.0</td>\n",
       "      <td>0.000000</td>\n",
       "      <td>0.000000</td>\n",
       "    </tr>\n",
       "    <tr>\n",
       "      <th>2019-05-28</th>\n",
       "      <td>0.012979</td>\n",
       "      <td>0.002045</td>\n",
       "      <td>0.064389</td>\n",
       "      <td>1.073510</td>\n",
       "      <td>3.527014</td>\n",
       "      <td>5.957370</td>\n",
       "      <td>0.0</td>\n",
       "      <td>0.587768</td>\n",
       "      <td>0.000000</td>\n",
       "    </tr>\n",
       "    <tr>\n",
       "      <th>2019-05-29</th>\n",
       "      <td>0.000000</td>\n",
       "      <td>0.000008</td>\n",
       "      <td>0.000890</td>\n",
       "      <td>2.231628</td>\n",
       "      <td>5.683658</td>\n",
       "      <td>2.266128</td>\n",
       "      <td>0.0</td>\n",
       "      <td>0.000000</td>\n",
       "      <td>0.000000</td>\n",
       "    </tr>\n",
       "    <tr>\n",
       "      <th>2019-05-30</th>\n",
       "      <td>0.092477</td>\n",
       "      <td>0.231149</td>\n",
       "      <td>0.041616</td>\n",
       "      <td>0.003786</td>\n",
       "      <td>1.137013</td>\n",
       "      <td>1.142408</td>\n",
       "      <td>0.0</td>\n",
       "      <td>0.000000</td>\n",
       "      <td>0.000000</td>\n",
       "    </tr>\n",
       "    <tr>\n",
       "      <th>2019-05-31</th>\n",
       "      <td>0.013914</td>\n",
       "      <td>0.013914</td>\n",
       "      <td>0.121624</td>\n",
       "      <td>0.128138</td>\n",
       "      <td>1.318937</td>\n",
       "      <td>1.646136</td>\n",
       "      <td>0.0</td>\n",
       "      <td>0.004869</td>\n",
       "      <td>1.400037</td>\n",
       "    </tr>\n",
       "  </tbody>\n",
       "</table>\n",
       "<p>8268 rows × 9 columns</p>\n",
       "</div>"
      ],
      "text/plain": [
       "            west_tor  west_wind  west_hail  central_tor  central_wind  \\\n",
       "date                                                                    \n",
       "1979-11-01  0.000000   0.000000   0.000000     0.000000      0.000000   \n",
       "1979-11-02  0.000000   0.000000   0.000000     0.000000      0.000000   \n",
       "1979-11-03  0.000000   0.000000   0.000000     0.000000      0.000000   \n",
       "1979-11-04  0.000000   0.000000   0.000000     0.000000      0.000000   \n",
       "1979-11-05  0.000000   0.000000   0.000000     0.000000      0.000000   \n",
       "...              ...        ...        ...          ...           ...   \n",
       "2019-05-27  0.200550   0.038387   0.274401     3.712219      4.844967   \n",
       "2019-05-28  0.012979   0.002045   0.064389     1.073510      3.527014   \n",
       "2019-05-29  0.000000   0.000008   0.000890     2.231628      5.683658   \n",
       "2019-05-30  0.092477   0.231149   0.041616     0.003786      1.137013   \n",
       "2019-05-31  0.013914   0.013914   0.121624     0.128138      1.318937   \n",
       "\n",
       "            central_hail  east_tor  east_wind  east_hail  \n",
       "date                                                      \n",
       "1979-11-01      0.000000       0.0   0.000000   0.000000  \n",
       "1979-11-02      0.000000       0.0   0.000000   0.000000  \n",
       "1979-11-03      0.000000       0.0   0.000000   0.000000  \n",
       "1979-11-04      0.000000       0.0   0.000000   0.000000  \n",
       "1979-11-05      0.000000       0.0   0.000000   0.000000  \n",
       "...                  ...       ...        ...        ...  \n",
       "2019-05-27      5.126097       0.0   0.000000   0.000000  \n",
       "2019-05-28      5.957370       0.0   0.587768   0.000000  \n",
       "2019-05-29      2.266128       0.0   0.000000   0.000000  \n",
       "2019-05-30      1.142408       0.0   0.000000   0.000000  \n",
       "2019-05-31      1.646136       0.0   0.004869   1.400037  \n",
       "\n",
       "[8268 rows x 9 columns]"
      ]
     },
     "execution_count": 15,
     "metadata": {},
     "output_type": "execute_result"
    }
   ],
   "source": [
    "pph_data = pd.read_csv('pph_loc_mean.csv').rename(columns={'Unnamed: 0': 'date'}).set_index('date')\n",
    "pph_data"
   ]
  },
  {
   "attachments": {},
   "cell_type": "markdown",
   "metadata": {},
   "source": [
    "### Formatting data to output time-series-like"
   ]
  },
  {
   "cell_type": "code",
   "execution_count": 18,
   "metadata": {},
   "outputs": [],
   "source": [
    "#creating windows and horizons\n",
    "HORIZON = 7 # PPH from 7 days afterwords\n",
    "WINDOW = 30 # assumes sliding in days\n",
    "\n",
    "\n",
    "# creates a expanding window from given label -- WORKS!\n",
    "def get_window_expanding(label=\"\", label_list=label_list):\n",
    "    try:\n",
    "        # take the season\n",
    "        # season_index = label_list.index(label)\n",
    "\n",
    "        # grab all the days previous to one that you have\n",
    "        window = [0]*(len(label_list)-7)\n",
    "        for i in range(len(window)):\n",
    "            window[i] = label_list[len(label_list)-i-8]\n",
    "        # return window and label\n",
    "        return window, label\n",
    "        \n",
    "    \n",
    "    #printing error when value is not in seasons list\n",
    "    except:\n",
    "        return \"Label not found in list\"\n",
    "    \n",
    "\n",
    "# creates a sliding window from given label -- WORKS!\n",
    "def get_window_sliding (label=\"\", window_num=WINDOW):\n",
    "    try: \n",
    "        #ensure not grabbing from diff season\n",
    "        day_index = label_list.index(label)\n",
    "        m = int(label.split('-')[1])\n",
    "        d = int(label.split('-')[2])\n",
    "\n",
    "        #for values that are almost outside the season, use and expanding window \n",
    "        if (m ==11 ) or (m ==12 and d < 7):\n",
    "            y = label.split('-')[0]\n",
    "            stopper = y+'-11-01' #end of the season\n",
    "            stop_index = label_list.index(stopper)\n",
    "\n",
    "            #creates a new list to grab data from\n",
    "            label_list_copy = label_list.copy()[stop_index:day_index+1]\n",
    "\n",
    "            return (get_window_expanding(label=label, label_list=label_list_copy))\n",
    "\n",
    "        else:\n",
    "            window = [0]*(window_num)\n",
    "\n",
    "            for i in range(len(window)):\n",
    "                window[i] = label_list[day_index-i-7] #TODO: 7 days between or pph_day - last_day = 7\n",
    "            return window, label  \n",
    "    \n",
    "    except:\n",
    "        return \"Label not found in list\"\n",
    "    \n",
    "\n",
    "# returns wind and geopotential dataframe for prev 30 days (minus 7d), olr dataframe for prev 30 days(minus 7d), \n",
    "# and pph data for the given date\n",
    "def get_data(date):\n",
    "    dates = get_window_sliding(date)\n",
    "    past_dates = dates[0]\n",
    "    target_data = pph_data.loc[date]\n",
    "    slicer = slice(past_dates[-1], past_dates[0])\n",
    "\n",
    "    return df_wg.sel(time=slicer), df_olr.sel(time=slicer), target_data"
   ]
  },
  {
   "cell_type": "code",
   "execution_count": 21,
   "metadata": {},
   "outputs": [
    {
     "data": {
      "text/plain": [
       "west_tor        0.000387\n",
       "west_wind       0.003701\n",
       "west_hail       0.000692\n",
       "central_tor     0.411127\n",
       "central_wind    1.326020\n",
       "central_hail    2.038079\n",
       "east_tor        0.000000\n",
       "east_wind       0.000000\n",
       "east_hail       0.000000\n",
       "Name: 1990-05-11, dtype: float64"
      ]
     },
     "execution_count": 21,
     "metadata": {},
     "output_type": "execute_result"
    }
   ],
   "source": [
    "\n",
    "get_data('1990-05-11')[2]"
   ]
  },
  {
   "attachments": {},
   "cell_type": "markdown",
   "metadata": {},
   "source": [
    "### Spliting the Data into Train, Test, and Validation sets"
   ]
  },
  {
   "cell_type": "code",
   "execution_count": null,
   "metadata": {},
   "outputs": [],
   "source": [
    "#training data\n",
    "train_slice = slice('1983-11', '2016-5') # TODO: not sure if it's supposed to be -> 2013 || 2016\n",
    "train_olr = df_olr.sel(time=train_slice)\n",
    "train_pph = df_pph.sel(time=train_slice)\n",
    "train_wg = df_wg.sel(time=train_slice)\n",
    "\n",
    "#testing data\n",
    "test_slice = slice('2016-11', '2019')\n",
    "test_olr = df_olr.sel(time=test_slice)\n",
    "test_pph = df_pph.sel(time=test_slice)\n",
    "test_wg = df_wg.sel(time=test_slice)\n",
    "\n",
    "#validation data - because this stuff will be more variable then our testing data (tech to measure is not as good)\n",
    "validation_slice = slice('1979', '1982-5')\n",
    "val_olr = df_olr.sel(time=validation_slice)\n",
    "val_pph = df_pph.sel(time=validation_slice)\n",
    "val_wg = df_wg.sel(time=validation_slice)"
   ]
  },
  {
   "attachments": {},
   "cell_type": "markdown",
   "metadata": {},
   "source": [
    "### Model Building"
   ]
  },
  {
   "attachments": {},
   "cell_type": "markdown",
   "metadata": {},
   "source": [
    "Input(shape=(#steps,#features))"
   ]
  },
  {
   "cell_type": "code",
   "execution_count": null,
   "metadata": {},
   "outputs": [],
   "source": [
    "# creates a conv2d and max pool sequence \n",
    "# rounds: how many conv2d-max pool sequences wanted\n",
    "# n_c2d_filters: filters\n",
    "# num filters/rounds = how many conv2d layers will be in each round/sequence\n",
    "\n",
    "def conv_2d_max_pool_seq (input_x, rounds, n_c2d_filters, activation, kernel_size=3):\n",
    "  if len(n_c2d_filters)%rounds != 0:\n",
    "    return \"Incorrect number of filters\"\n",
    "  else:\n",
    "    i = 0\n",
    "    x = input_x\n",
    "    d = int(len(n_c2d_filters)/rounds)\n",
    "    while i < rounds:\n",
    "      for n in range(d):\n",
    "        x = layers.Conv2D(filters=n_c2d_filters[int(n+d*i)], kernel_size= kernel_size, activation=activation, padding='same')(x)\n",
    "      print(d)\n",
    "      x = layers.MaxPooling2D((2,2))(x)\n",
    "      i = i+1\n",
    "    x = layers.Flatten()(x)\n",
    "    return(x)\n",
    "  \n",
    "\n"
   ]
  },
  {
   "cell_type": "code",
   "execution_count": null,
   "metadata": {},
   "outputs": [],
   "source": [
    "#TODO: make her better for hyperparameter tuning\n",
    "\n",
    "input_wg = keras.Input(shape=(51, 214, 3), name=\"wind-geopot input\")\n",
    "input_olr = keras.Input(shape=(13, 144, 3), name=\"olr input\")\n",
    "\n",
    "#dense output = 3 -> east, central, west \n",
    "\n",
    "#This model puts everything together; TODO: re-order parameters\n",
    "def model_maker(input_wg, input_olr, rounds, n_c2d_filters, hidden_nodes, \n",
    "                dropout_rate, activation, name, kernel_reg, kernel_size=3):\n",
    "    \n",
    "    \n",
    "    x = layers.concatenate([conv_2d_max_pool_seq(input_wg, rounds, n_c2d_filters, activation, kernel_size), \n",
    "                            conv_2d_max_pool_seq(input_olr, rounds, n_c2d_filters, activation, kernel_size)])\n",
    "    \n",
    "    #need to also concatenate \n",
    "\n",
    "    for h in hidden_nodes:\n",
    "        x = layers.Dropout(dropout_rate)(x)\n",
    "        x = layers.Dense(h, activation=activation)(x)\n",
    "\n",
    "\n",
    "\n",
    "    outputs = layers.Dense(9, kernel_regularizer=kernel_reg)(x) #ridge regression for regulizer\n",
    "\n",
    "    model = keras.Model(\n",
    "        inputs = [input_wg, input_olr], \n",
    "        outputs = outputs, \n",
    "        name=name)\n",
    "    return model\n",
    "\n"
   ]
  },
  {
   "cell_type": "code",
   "execution_count": null,
   "metadata": {},
   "outputs": [],
   "source": [
    "model = model_maker()\n",
    "\n",
    "early_stopping_cb = keras.callbacks.EarlyStopping(patience=10,\n",
    "                                                  restore_best_weights=True,\n",
    "                                                      min_delta=0.01)\n",
    "\n",
    "model.fit(x=[], y=[], epochs=20, verbose=1,\n",
    "                        validation_data=([], []), \n",
    "                        callbacks=[])"
   ]
  }
 ],
 "metadata": {
  "kernelspec": {
   "display_name": "reu_proj",
   "language": "python",
   "name": "python3"
  },
  "language_info": {
   "codemirror_mode": {
    "name": "ipython",
    "version": 3
   },
   "file_extension": ".py",
   "mimetype": "text/x-python",
   "name": "python",
   "nbconvert_exporter": "python",
   "pygments_lexer": "ipython3",
   "version": "3.9.16"
  },
  "orig_nbformat": 4
 },
 "nbformat": 4,
 "nbformat_minor": 2
}
